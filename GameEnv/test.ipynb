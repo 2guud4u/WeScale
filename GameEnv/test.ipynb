{
 "cells": [
  {
   "cell_type": "code",
   "execution_count": 8,
   "metadata": {},
   "outputs": [],
   "source": [
    "import gymnasium \n",
    "from stable_baselines3 import PPO\n",
    "from stable_baselines3.common.vec_env import DummyVecEnv\n",
    "from stable_baselines3.common.evaluation import evaluate_policy\n",
    "from stable_baselines3.common.monitor import Monitor\n",
    "\n",
    "import gymnasium\n",
    "import gymnasium_env\n",
    "from stable_baselines3 import PPO\n",
    "from stable_baselines3.common.env_util import make_vec_env\n",
    "from stable_baselines3.common.evaluation import evaluate_policy\n",
    "from gymnasium import spaces\n",
    "import numpy as np\n",
    "from gymnasium.spaces.utils import flatten_space\n",
    "import pprint\n",
    "from gymnasium import envs\n",
    "from gymnasium.wrappers import FlattenObservation\n",
    "from stable_baselines3.common.monitor import Monitor\n",
    "# Create environment\n",
    "env = gymnasium.make('gymnasium_env/slither_world')\n"
   ]
  },
  {
   "cell_type": "code",
   "execution_count": 9,
   "metadata": {},
   "outputs": [
    {
     "name": "stdout",
     "output_type": "stream",
     "text": [
      "keys ['foodList', 'mySnake', 'mySnakeBody']\n",
      "shapes {'foodList': (300,), 'mySnake': (2,), 'mySnakeBody': (200,)}\n",
      "dtypes {'foodList': dtype('float32'), 'mySnake': dtype('float32'), 'mySnakeBody': dtype('float32')}\n",
      "Using cuda device\n"
     ]
    }
   ],
   "source": [
    "\n",
    "# Wrap the environment in a vectorized environment for faster training\n",
    "env = DummyVecEnv([lambda: env])\n",
    "\n",
    "# Initialize PPO model\n",
    "model = PPO(\n",
    "    policy = 'MultiInputPolicy',\n",
    "    env = env,\n",
    "    n_steps = 1024,\n",
    "    batch_size = 64,\n",
    "    n_epochs = 4,\n",
    "    gamma = 0.999,\n",
    "    gae_lambda = 0.98,\n",
    "    ent_coef = 0.01,\n",
    "    verbose=1)\n",
    "\n"
   ]
  },
  {
   "cell_type": "code",
   "execution_count": null,
   "metadata": {},
   "outputs": [
    {
     "name": "stdout",
     "output_type": "stream",
     "text": [
      "-----------------------------\n",
      "| time/              |      |\n",
      "|    fps             | 53   |\n",
      "|    iterations      | 1    |\n",
      "|    time_elapsed    | 19   |\n",
      "|    total_timesteps | 1024 |\n",
      "-----------------------------\n",
      "------------------------------------------\n",
      "| time/                   |              |\n",
      "|    fps                  | 51           |\n",
      "|    iterations           | 2            |\n",
      "|    time_elapsed         | 40           |\n",
      "|    total_timesteps      | 2048         |\n",
      "| train/                  |              |\n",
      "|    approx_kl            | 2.687273e-06 |\n",
      "|    clip_fraction        | 0            |\n",
      "|    clip_range           | 0.2          |\n",
      "|    entropy_loss         | -2.84        |\n",
      "|    explained_variance   | 0.000680387  |\n",
      "|    learning_rate        | 0.0003       |\n",
      "|    loss                 | 1.02e+08     |\n",
      "|    n_updates            | 8            |\n",
      "|    policy_gradient_loss | -0.000117    |\n",
      "|    std                  | 1            |\n",
      "|    value_loss           | 2.03e+08     |\n",
      "------------------------------------------\n",
      "--------------------------------------------\n",
      "| time/                   |                |\n",
      "|    fps                  | 42             |\n",
      "|    iterations           | 3              |\n",
      "|    time_elapsed         | 71             |\n",
      "|    total_timesteps      | 3072           |\n",
      "| train/                  |                |\n",
      "|    approx_kl            | 1.7624698e-06  |\n",
      "|    clip_fraction        | 0              |\n",
      "|    clip_range           | 0.2            |\n",
      "|    entropy_loss         | -2.84          |\n",
      "|    explained_variance   | -2.3841858e-06 |\n",
      "|    learning_rate        | 0.0003         |\n",
      "|    loss                 | 3.34e+08       |\n",
      "|    n_updates            | 12             |\n",
      "|    policy_gradient_loss | -3.17e-05      |\n",
      "|    std                  | 1              |\n",
      "|    value_loss           | 6.79e+08       |\n",
      "--------------------------------------------\n",
      "-------------------------------------------\n",
      "| time/                   |               |\n",
      "|    fps                  | 33            |\n",
      "|    iterations           | 4             |\n",
      "|    time_elapsed         | 123           |\n",
      "|    total_timesteps      | 4096          |\n",
      "| train/                  |               |\n",
      "|    approx_kl            | 3.4422847e-06 |\n",
      "|    clip_fraction        | 0             |\n",
      "|    clip_range           | 0.2           |\n",
      "|    entropy_loss         | -2.84         |\n",
      "|    explained_variance   | -2.861023e-06 |\n",
      "|    learning_rate        | 0.0003        |\n",
      "|    loss                 | 7e+08         |\n",
      "|    n_updates            | 16            |\n",
      "|    policy_gradient_loss | -5.94e-05     |\n",
      "|    std                  | 1             |\n",
      "|    value_loss           | 1.37e+09      |\n",
      "-------------------------------------------\n"
     ]
    }
   ],
   "source": [
    "\n",
    "# Train the agent (adjust the number of timesteps for quick feedback)\n",
    "# Train the agent\n",
    "model.learn(total_timesteps=int(2e5))\n",
    "# Save the trained model\n",
    "model_name = \"ppo-snake-v2\"\n",
    "model.save(model_name)\n"
   ]
  },
  {
   "cell_type": "code",
   "execution_count": 5,
   "metadata": {},
   "outputs": [],
   "source": [
    "\n",
    "# Evaluation\n",
    "eval_env = Monitor(gymnasium.make(\"gymnasium_env/slither_world\"))  # Use Monitor for logging evaluation\n"
   ]
  },
  {
   "cell_type": "code",
   "execution_count": 6,
   "metadata": {},
   "outputs": [
    {
     "name": "stdout",
     "output_type": "stream",
     "text": [
      "keys ['foodList', 'mySnake', 'mySnakeBody']\n",
      "shapes {'foodList': (300,), 'mySnake': (2,), 'mySnakeBody': (200,)}\n",
      "dtypes {'foodList': dtype('float32'), 'mySnake': dtype('float32'), 'mySnakeBody': dtype('float32')}\n",
      "mean_reward=375705.00 +/- 584524.45\n"
     ]
    }
   ],
   "source": [
    "mean_reward, std_reward = evaluate_policy(model, eval_env, n_eval_episodes=10, deterministic=True)\n",
    "\n",
    "# Print evaluation results\n",
    "print(f\"mean_reward={mean_reward:.2f} +/- {std_reward:.2f}\")"
   ]
  }
 ],
 "metadata": {
  "kernelspec": {
   "display_name": "WeScale",
   "language": "python",
   "name": "python3"
  },
  "language_info": {
   "codemirror_mode": {
    "name": "ipython",
    "version": 3
   },
   "file_extension": ".py",
   "mimetype": "text/x-python",
   "name": "python",
   "nbconvert_exporter": "python",
   "pygments_lexer": "ipython3",
   "version": "3.13.1"
  }
 },
 "nbformat": 4,
 "nbformat_minor": 2
}
